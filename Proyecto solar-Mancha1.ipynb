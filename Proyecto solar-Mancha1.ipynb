{
 "cells": [
  {
   "cell_type": "code",
   "execution_count": 2,
   "metadata": {
    "collapsed": true
   },
   "outputs": [],
   "source": [
    "from scipy import ndimage\n",
    "from PIL import Image\n",
    "import numpy as np\n",
    "import matplotlib.pyplot as plt\n",
    "from datetime import datetime, date, time, timedelta\n",
    "\n",
    "from numpy import linalg as la\n"
   ]
  },
  {
   "cell_type": "code",
   "execution_count": 3,
   "metadata": {},
   "outputs": [],
   "source": [
    "image1=Image.open(\"20110118_235241_1024_HMII.jpg\")\n",
    "image2=Image.open(\"20110119_060441_1024_HMII.jpg\")\n",
    "image3=Image.open(\"20110119_120441_1024_HMII.jpg\")\n",
    "image4=Image.open(\"20110119_181041_1024_HMII.jpg\")\n",
    "image5=Image.open(\"20110120_000441_1024_HMII.jpg\")\n",
    "image6=Image.open(\"20110120_061041_1024_HMII.jpg\")\n",
    "image7=Image.open(\"20110120_121041_1024_HMII.jpg\")\n",
    "image8=Image.open(\"20110120_180441_1024_HMII.jpg\")\n",
    "image9=Image.open(\"20110121_001041_1024_HMII.jpg\")\n",
    "image10=Image.open(\"20110121_062241_1024_HMII.jpg\")\n",
    "image11=Image.open(\"20110121_120441_1024_HMII.jpg\")\n",
    "image12=Image.open(\"20110121_180441_1024_HMII.jpg\")\n",
    "image13=Image.open(\"20110122_003441_1024_HMII.jpg\")\n",
    "N=1024 #numero de pixeles\n",
    "\n",
    "t1=datetime(2011,1,18, hour=23, minute=52, second=41)\n",
    "t2=datetime(2011,1,19, hour=6, minute=4, second=41)\n",
    "t3=datetime(2011,1,19, hour=12, minute=4, second=41)\n",
    "t4=datetime(2011,1,19, hour=18, minute=10, second=41)\n",
    "t5=datetime(2011,1,20, hour=0, minute=4, second=41)\n",
    "t6=datetime(2011,1,20, hour=6, minute=10, second=41)\n",
    "t7=datetime(2011,1,20, hour=12, minute=10, second=41)\n",
    "t8=datetime(2011,1,20, hour=18, minute=4, second=41)\n",
    "t9=datetime(2011,1,21, hour=0, minute=10, second=41)\n",
    "t10=datetime(2011,1,21, hour=6, minute=22, second=41)\n",
    "t11=datetime(2011,1,21, hour=12, minute=4, second=41)\n",
    "t12=datetime(2011,1,21, hour=18, minute=4, second=41)\n",
    "t13=datetime(2011,1,22, hour=0, minute=34, second=41)"
   ]
  },
  {
   "cell_type": "code",
   "execution_count": 4,
   "metadata": {},
   "outputs": [],
   "source": [
    "array1 = np.array(image1) #arreglo de imágenes\n",
    "array2 = np.array(image2) \n",
    "array3 = np.array(image3) \n",
    "array4 = np.array(image4) \n",
    "array5 = np.array(image5) \n",
    "array6 = np.array(image6) \n",
    "array7 = np.array(image7) \n",
    "array8 = np.array(image8) \n",
    "array9 = np.array(image9)  \n",
    "array10 = np.array(image10) \n",
    "array11 = np.array(image11) \n",
    "array12 = np.array(image12) \n",
    "array13 = np.array(image13) \n",
    "\n",
    "np.savetxt('image1.txt', array1, fmt='%1.4e')   \n",
    "np.savetxt('image2.txt', array2, fmt='%1.4e')   \n",
    "np.savetxt('image3.txt', array1, fmt='%1.4e')   \n",
    "np.savetxt('image4.txt', array2, fmt='%1.4e')   \n",
    "np.savetxt('image5.txt', array1, fmt='%1.4e')   \n",
    "np.savetxt('image6.txt', array2, fmt='%1.4e')   \n",
    "np.savetxt('image7.txt', array1, fmt='%1.4e')   \n",
    "np.savetxt('image8.txt', array2, fmt='%1.4e')   \n",
    "np.savetxt('image9.txt', array1, fmt='%1.4e')   \n",
    "np.savetxt('image10.txt', array2, fmt='%1.4e')   \n",
    "np.savetxt('image11.txt', array1, fmt='%1.4e')   \n",
    "np.savetxt('image12.txt', array2, fmt='%1.4e')   \n",
    "np.savetxt('image13.txt', array1, fmt='%1.4e')   "
   ]
  },
  {
   "cell_type": "code",
   "execution_count": 5,
   "metadata": {
    "collapsed": true
   },
   "outputs": [],
   "source": [
    "x=np.array([[0.0,0.0]]) #matrices nulas iniciales\n",
    "y=np.array([[0.0,0.0]]) \n"
   ]
  },
  {
   "cell_type": "code",
   "execution_count": 6,
   "metadata": {},
   "outputs": [],
   "source": [
    "for i in range(0,N):\n",
    "    for j in range(0,N):\n",
    "        if array1[i,j]>=1.0e01:\n",
    "            y=np.append(y, [[i, j]], axis=0)\n",
    "            #print([i,j])\n",
    "            break\n",
    "            \n",
    "y1=y[1,0]  #primer punto barriendo horizontalmente donde empieza el sol\n",
    "y2=y[1,1]\n",
    "\n",
    "\n",
    "ymin=np.array([y1,y2])\n",
    "\n",
    "\n"
   ]
  },
  {
   "cell_type": "code",
   "execution_count": 7,
   "metadata": {},
   "outputs": [],
   "source": [
    "for j in range(0,N):\n",
    "    for i in range(0,N):\n",
    "        if array1[i,j]>=1.0e01:\n",
    "            x=np.append(x, [[i, j]], axis=0)\n",
    "            #print([i,j])\n",
    "            break\n",
    "            \n",
    "m=len(x)\n",
    "x1=x[m-1,0] #último punto barriendo verticalmente donde empieza el sol\n",
    "x2=x[m-1,1]\n",
    "xmax=np.array([x1,x2])\n"
   ]
  },
  {
   "cell_type": "code",
   "execution_count": 8,
   "metadata": {},
   "outputs": [],
   "source": [
    "#ubicación del centro en pixeles\n",
    "\n",
    "c2=ymin[1]\n",
    "c1=xmax[0]\n",
    "c=np.array([c1,c2])\n",
    "\n",
    "\n",
    "#radio de la esfera solar\n",
    "\n",
    "r=la.norm(c-ymin)\n"
   ]
  },
  {
   "cell_type": "code",
   "execution_count": 9,
   "metadata": {},
   "outputs": [],
   "source": [
    "def manchas(array):\n",
    "    M=np.array([[0.0,0.0,0.0]])\n",
    "    for i in range (0,N): #identifica todos los puntos negros dentro del sol\n",
    "        for j in range (0,N):\n",
    "            R=np.sqrt((i-c1)**2+(j-c2)**2)\n",
    "            tol=0.9*r\n",
    "            if R<tol:\n",
    "                if array[i,j]<1.0e01:\n",
    "                    intt=array[i,j]\n",
    "                    M=np.append(M, [[i, j,intt]], axis=0)\n",
    "                    #print (i,j)\n",
    "    return M[np.arange(1,len(M)),:] #Quita la fila de ceros\n",
    "                \n",
    "\n"
   ]
  },
  {
   "cell_type": "code",
   "execution_count": 10,
   "metadata": {},
   "outputs": [
    {
     "name": "stderr",
     "output_type": "stream",
     "text": [
      "-c:16: VisibleDeprecationWarning: using a non-integer number instead of an integer will result in an error in the future\n"
     ]
    }
   ],
   "source": [
    "def manchas2(array):\n",
    "    MM=manchas(array)\n",
    "    imin=np.amin(MM[:,np.arange(0,1)])\n",
    "    imax=np.amax(MM[:,np.arange(0,1)])\n",
    "    jmin=np.amin(MM[:,np.arange(1,2)])\n",
    "    jmax=np.amax(MM[:,np.arange(1,2)])\n",
    "    n=int(imax-imin+1)\n",
    "    m=int(jmax-jmin+1)\n",
    "    #print n #rango de la matriz de la mancha\n",
    "    for i in range(0,len(MM)):\n",
    "        MM.itemset((i,0),MM[i,0]-imin)\n",
    "    for j in range(0,len(MM)):\n",
    "        MM.itemset((j,1),MM[j,1]-jmin)\n",
    "    intenM=np.zeros((n,m))\n",
    "    for i in range(0,len(MM)):\n",
    "        intenM.itemset((MM[i,0],MM[i,1]),i+1)\n",
    "    return intenM\n",
    "\n",
    "p=manchas2(array1).shape[0]\n",
    "q=manchas2(array1).shape[1]\n",
    "nz=np.count_nonzero(manchas2(array1))\n",
    "\n",
    "\n",
    "\n"
   ]
  },
  {
   "cell_type": "code",
   "execution_count": 11,
   "metadata": {},
   "outputs": [],
   "source": [
    "def all_sub(r, c, mat): # returns all sub matrices of order r * c in mat\n",
    "    arr_of_subs = []\n",
    "    if (r == len(mat)) and (c == len(mat[0])):\n",
    "            arr_of_subs.append(mat)\n",
    "            return arr_of_subs\n",
    "            arr_of_subs.append(mat)\n",
    "            return arr_of_subs\n",
    "    for i in range(len(mat) - r + 1):\n",
    "        for j in range(len(mat[0]) - c + 1):\n",
    "            temp_mat = []\n",
    "            for ki in range(i, r + i):\n",
    "                temp_row = []\n",
    "                for kj in range(j, c + j):\n",
    "                    temp_row.append(mat[ki][kj])\n",
    "                temp_mat.append(temp_row)\n",
    "            arr_of_subs.append(temp_mat)\n",
    "    return arr_of_subs\n",
    "\n",
    "\n"
   ]
  },
  {
   "cell_type": "code",
   "execution_count": 12,
   "metadata": {},
   "outputs": [],
   "source": [
    "def recon(array): #escoge la submatriz de rango pq que mas se asemeja a la mancha inicial\n",
    "    w=manchas2(array).shape[0]\n",
    "    z=manchas2(array).shape[1]\n",
    "    if (w<=p) or (z<=q):\n",
    "        return manchas2(array2)\n",
    "    sub=all_sub(p,q,manchas2(array))\n",
    "    for k in range (0,len(sub)):\n",
    "        H=np.array(sub[k])\n",
    "        for i in H:\n",
    "            if np.any(i != 0):\n",
    "                s=np.count_nonzero(H)\n",
    "                if s>=nz-1:\n",
    "                    return H\n",
    "                    "
   ]
  },
  {
   "cell_type": "code",
   "execution_count": 13,
   "metadata": {},
   "outputs": [
    {
     "name": "stderr",
     "output_type": "stream",
     "text": [
      "-c:10: VisibleDeprecationWarning: using a non-integer number instead of an integer will result in an error in the future\n"
     ]
    }
   ],
   "source": [
    "#encontrar las coordenadas de la mancha \n",
    "def select(x):\n",
    "    if np.mod(x,2)==0: #par\n",
    "        return x/2-1\n",
    "    elif np.mod(x,2)==1: #impar\n",
    "        return (x+1)/2-1\n",
    "    \n",
    "#coordenas cartesianas de la mancha\n",
    "#mancha inicial\n",
    "t0=int(manchas2(array1)[select(p),select(q)])-1\n",
    "\n",
    "\n",
    "def coord(array):\n",
    "    w=manchas2(array).shape[0]\n",
    "    z=manchas2(array).shape[1]\n",
    "    if (w<=p) or (z<=q):\n",
    "        v=int(recon(array)[select(w),select(z)])-1\n",
    "        [x,y]=[manchas(array)[v,0],manchas(array)[v,1]]\n",
    "        return [x,y]\n",
    "    t=int(recon(array)[select(p),select(q)])-1\n",
    "    [x,y]=[manchas(array)[t,0],manchas(array)[t,1]]\n",
    "    return [x,y]\n",
    "\n"
   ]
  },
  {
   "cell_type": "code",
   "execution_count": 14,
   "metadata": {},
   "outputs": [
    {
     "name": "stderr",
     "output_type": "stream",
     "text": [
      "-c:17: VisibleDeprecationWarning: using a non-integer number instead of an integer will result in an error in the future\n",
      "-c:20: VisibleDeprecationWarning: using a non-integer number instead of an integer will result in an error in the future\n"
     ]
    }
   ],
   "source": [
    "R=9.957e08\n",
    "h=R/r #factor de escala\n",
    "def filas(array): #coordenadas y cartesianas\n",
    "    return h*(-coord(array)[0]+c[0])\n",
    "\n",
    "def col(array): #coordenadas x cartesianas\n",
    "    return h*(coord(array)[1]-c[1])\n",
    "\n",
    "[x1,y1]=[col(array1),filas(array1)]\n",
    "[x2,y2]=[col(array2),filas(array2)]\n",
    "[x3,y3]=[col(array3),filas(array3)]\n",
    "[x4,y4]=[col(array4),filas(array4)]\n",
    "[x5,y5]=[col(array5),filas(array5)]\n",
    "[x6,y6]=[col(array6),filas(array6)]\n",
    "[x7,y7]=[col(array7),filas(array7)]\n",
    "[x8,y8]=[col(array8),filas(array8)]\n",
    "[x9,y9]=[col(array9),filas(array8)]\n",
    "[x10,y10]=[col(array10),filas(array10)]\n",
    "[x11,y11]=[col(array11),filas(array11)]\n",
    "[x12,y12]=[col(array12),filas(array12)]\n",
    "[x13,y13]=[col(array13),filas(array13)]\n"
   ]
  },
  {
   "cell_type": "code",
   "execution_count": 15,
   "metadata": {},
   "outputs": [],
   "source": [
    "X=np.array([[x1,y1,t1],[x2,y2,t2],[x3,y3,t3],[x4,y4,t4],[x5,y5,t5],[x6,y6,t6],[x7,y7,t7],[x8,y8,t8],[x9,y9,t9],[x10,y10,t10],[x11,y11,t11],[x12,y12,t12],[x13,y13,t13]])\n"
   ]
  },
  {
   "cell_type": "code",
   "execution_count": 16,
   "metadata": {},
   "outputs": [
    {
     "name": "stdout",
     "output_type": "stream",
     "text": [
      "2456.61908246\n"
     ]
    }
   ],
   "source": [
    "sum=0 #Promedio de velocidad\n",
    "for i in range (1,len(X)):\n",
    "    timedelta=X[i,2]-X[i-1,2]\n",
    "    dt=timedelta.seconds\n",
    "    Vx=(X[i,0]-X[i-1,0])/dt\n",
    "    Vy=(X[i,1]-X[i-1,1])/dt\n",
    "    V=np.sqrt(Vx**2 + Vy**2)\n",
    "    sum=sum+V\n",
    "    \n",
    "Vdif=sum/(len(X)-1) #velocidad de la mancha-Velocidad de rotación solar en dicha latitud\n",
    "print (Vdif)"
   ]
  },
  {
   "cell_type": "code",
   "execution_count": 17,
   "metadata": {},
   "outputs": [
    {
     "name": "stdout",
     "output_type": "stream",
     "text": [
      "40.4174381417\n"
     ]
    }
   ],
   "source": [
    "#Latitud promedio:\n",
    "\n",
    "SUM=0\n",
    "for i in range (0,len(X)):\n",
    "    lat=(90/R)*X[i,1]\n",
    "    SUM=SUM+lat\n",
    "\n",
    "latitud=SUM/len(X)\n",
    "print (latitud)"
   ]
  },
  {
   "cell_type": "code",
   "execution_count": 19,
   "metadata": {},
   "outputs": [
    {
     "name": "stdout",
     "output_type": "stream",
     "text": [
      "-2537.32423216\n"
     ]
    }
   ],
   "source": [
    "def Vteor(x):\n",
    "    sigma0=2.867e-6\n",
    "    B=0.121\n",
    "    C=0.166\n",
    "    sigma=sigma0*(1-B*(np.sin(x))**2-C*(np.sin(x))**4)\n",
    "    rad=R*np.cos(x)\n",
    "    return rad*sigma\n",
    "\n",
    "print (Vteor(latitud))"
   ]
  },
  {
   "cell_type": "code",
   "execution_count": null,
   "metadata": {},
   "outputs": [],
   "source": []
  }
 ],
 "metadata": {
  "kernelspec": {
   "display_name": "Python 3",
   "language": "python",
   "name": "python3"
  },
  "language_info": {
   "codemirror_mode": {
    "name": "ipython",
    "version": 3
   },
   "file_extension": ".py",
   "mimetype": "text/x-python",
   "name": "python",
   "nbconvert_exporter": "python",
   "pygments_lexer": "ipython3",
   "version": "3.5.2"
  }
 },
 "nbformat": 4,
 "nbformat_minor": 1
}
